{
 "cells": [
  {
   "cell_type": "markdown",
   "metadata": {},
   "source": [
    "# Profiling MXNet Models\n",
    "\n",
    "It is often helpful to understand what operations take how much time while running a model. This helps optimize the model to run faster. In this tutorial, we will learn how to profile MXNet models to measure their running time and memory consumption using the MXNet profiler.\n",
    "\n",
    "## The incorrect way to profile\n",
    "\n",
    "If you have just begun using MXNet, you might be tempted to measure the execution time of your model using Python's `time` module like shown below:"
   ]
  },
  {
   "cell_type": "code",
   "execution_count": 1,
   "metadata": {},
   "outputs": [
    {
     "name": "stdout",
     "output_type": "stream",
     "text": [
      "Time for matrix multiplication: 0.000737 sec\n",
      "\n",
      "[[ 501.15835571  508.29724121  495.65237427 ...,  492.8470459   492.69094849\n",
      "   490.0480957 ]\n",
      " [ 508.81051636  507.18212891  495.17425537 ...,  503.10531616\n",
      "   497.29315186  493.67919922]\n",
      " [ 489.56600952  499.47012329  490.17715454 ...,  490.99942017\n",
      "   488.05007935  483.28833008]\n",
      " ..., \n",
      " [ 484.00189209  495.71786499  479.92147827 ...,  493.69949341\n",
      "   478.89193726  487.20742798]\n",
      " [ 499.64929199  507.65100098  497.59378052 ...,  493.0473938   500.74514771\n",
      "   495.82714844]\n",
      " [ 516.01434326  519.17144775  506.35397339 ...,  510.08880615\n",
      "   496.35610962  495.42520142]]\n",
      "Time for printing the output: 0.078544 sec\n"
     ]
    }
   ],
   "source": [
    "from time import time\n",
    "from mxnet import autograd, nd\n",
    "import mxnet as mx\n",
    "\n",
    "start = time()\n",
    "x = nd.random_uniform(shape=(2000,2000))\n",
    "y = nd.dot(x, x)\n",
    "print('Time for matrix multiplication: %f sec\\n' % (time() - start))\n",
    "\n",
    "start = time()                                \n",
    "print(y.asnumpy())                                \n",
    "print('Time for printing the output: %f sec' % (time() - start))"
   ]
  },
  {
   "cell_type": "markdown",
   "metadata": {},
   "source": [
    "From the output above, it seems as if printing the output takes lot more time that multiplying two large matrices. That doesn't feel right. \n",
    "\n",
    "This is because, in MXNet, all operations are executed asynchronously. So, when `nd.dot(x, x)` returns, the matrix multiplication is not complete, it has only been queued for execution. `asnumpy` in `print(y.asnumpy())` however, waits for the result to be computed and hence takes longer time.\n",
    "\n",
    "While it is possible to use `NDArray.waitall()` before and after operations to get running time of operations, it is not a scalable method to measure running time of multiple sets of operations, especially in a Sequential or Hybrid network.\n",
    "\n",
    "## The correct way to profile\n",
    "\n",
    "The correct way to measure running time of MXNet models is to use MXNet profiler. In the rest of this tutorial, we will learn how to use the MXNet profiler to measure the running time and memory consumption of MXNet models. You can import the profiler and configure it from Python code."
   ]
  },
  {
   "cell_type": "code",
   "execution_count": 2,
   "metadata": {},
   "outputs": [],
   "source": [
    "from mxnet import profiler\n",
    "profiler.set_config(profile_all=True, aggregate_stats=True, filename='profile_output.json')"
   ]
  },
  {
   "cell_type": "markdown",
   "metadata": {},
   "source": [
    "`profile_all` enables all types of profiling. You can also individually enable the following types of profiling:\n",
    "\n",
    "- `profile_symbolic` (boolean): whether to profile symbolic operators\n",
    "- `profile_imperative` (boolean): whether to profile imperative operators\n",
    "- `profile_memory` (boolean): whether to profile memory usage\n",
    "- `profile_api` (boolean): whether to profile the C API\n",
    "\n",
    "`aggregate_stats` aggregates statistics in memory which can then be printed to console by calling `profiler.dumps()`.\n",
    "\n",
    "### Setup: Build a model\n",
    "\n",
    "Let's build a small convolutional neural network that we can use for profiling."
   ]
  },
  {
   "cell_type": "code",
   "execution_count": 3,
   "metadata": {},
   "outputs": [],
   "source": [
    "from mxnet import gluon\n",
    "net = gluon.nn.HybridSequential()\n",
    "with net.name_scope():\n",
    "    net.add(gluon.nn.Conv2D(channels=20, kernel_size=5, activation='relu'))\n",
    "    net.add(gluon.nn.MaxPool2D(pool_size=2, strides=2))\n",
    "    net.add(gluon.nn.Conv2D(channels=50, kernel_size=5, activation='relu'))\n",
    "    net.add(gluon.nn.MaxPool2D(pool_size=2, strides=2))\n",
    "    net.add(gluon.nn.Flatten())\n",
    "    net.add(gluon.nn.Dense(512, activation=\"relu\"))\n",
    "    net.add(gluon.nn.Dense(10))"
   ]
  },
  {
   "cell_type": "markdown",
   "metadata": {},
   "source": [
    "We need data that we can run through the network for profiling. We'll use the MNIST dataset."
   ]
  },
  {
   "cell_type": "code",
   "execution_count": 4,
   "metadata": {},
   "outputs": [],
   "source": [
    "from mxnet.gluon.data.vision import transforms\n",
    "train_data = gluon.data.DataLoader(gluon.data.vision.MNIST(train=True).transform_first(transforms.ToTensor()),\n",
    "                                   batch_size=64, shuffle=True)"
   ]
  },
  {
   "cell_type": "markdown",
   "metadata": {},
   "source": [
    "Let's define a method that will run one training iteration given data and label."
   ]
  },
  {
   "cell_type": "code",
   "execution_count": 5,
   "metadata": {},
   "outputs": [],
   "source": [
    "# Use GPU if available\n",
    "try:\n",
    "    mx.test_utils.list_gpus(); ctx = mx.gpu()\n",
    "except:\n",
    "    ctx = mx.cpu()\n",
    "\n",
    "# Initialize the parameters with random weights\n",
    "net.collect_params().initialize(mx.init.Xavier(), ctx=ctx)\n",
    "\n",
    "# Use SGD optimizer\n",
    "trainer = gluon.Trainer(net.collect_params(), 'sgd', {'learning_rate': .1})\n",
    "\n",
    "# Softmax Cross Entropy is a frequently used loss function for multi-classs classification\n",
    "softmax_cross_entropy = gluon.loss.SoftmaxCrossEntropyLoss()\n",
    "\n",
    "# A helper function to run one training iteration\n",
    "def run_training_iteration(data, label):\n",
    "    \n",
    "    # Load data and label is the right context\n",
    "    data = data.as_in_context(ctx)\n",
    "    label = label.as_in_context(ctx)\n",
    "    \n",
    "    # Run the forward pass\n",
    "    with autograd.record():\n",
    "        output = net(data)\n",
    "        loss = softmax_cross_entropy(output, label)\n",
    "    \n",
    "    # Run the backward pass\n",
    "    loss.backward()\n",
    "    \n",
    "    # Apply changes to parameters\n",
    "    trainer.step(data.shape[0])"
   ]
  },
  {
   "cell_type": "markdown",
   "metadata": {},
   "source": [
    "### Starting and stopping the profiler from Python\n",
    "\n",
    "When the first forward pass is run on a network, MXNet does a number of housekeeping tasks including inferring the shapes of various parameters, allocating memory for intermediate and final outputs, etc. For these reasons, profiling the first iteration doesn't provide accurate results. We will, therefore skip the first iteration."
   ]
  },
  {
   "cell_type": "code",
   "execution_count": 6,
   "metadata": {},
   "outputs": [],
   "source": [
    "# Run the first iteration without profiling\n",
    "itr = iter(train_data)\n",
    "run_training_iteration(*next(itr))"
   ]
  },
  {
   "cell_type": "markdown",
   "metadata": {},
   "source": [
    "We'll run the next iteration with the profiler turned on."
   ]
  },
  {
   "cell_type": "code",
   "execution_count": 7,
   "metadata": {},
   "outputs": [],
   "source": [
    "# Ask the profiler to start recording\n",
    "profiler.set_state('run')\n",
    "\n",
    "run_training_iteration(*next(itr))\n",
    "\n",
    "# Ask the profiler to stop recording after operations have completed\n",
    "mx.nd.waitall()\n",
    "profiler.set_state('stop')"
   ]
  },
  {
   "cell_type": "markdown",
   "metadata": {},
   "source": [
    "Between running and stopping the profiler, you can also pause and resume the profiler using `profiler.pause()` and `profiler.resume()` respectively to profile only parts of the code you want to profile.\n",
    "\n",
    "### Starting profiler automatically using environment variable\n",
    "\n",
    "The method described above requires code changes to start and stop the profiler. You can also start the profiler automatically and profile the entire code without any code changes using the `MXNET_PROFILER_AUTOSTART` environment variable.\n",
    "\n",
    "MXNet will start the profiler automatically if you run your code with the environment variable `MXNET_PROFILER_AUTOSTART` set to `1`. The profiler output is stored into `profile.json` in the current directory.\n",
    "\n",
    "Note that the profiler output could be large depending on your code. It might be helpful to profile only sections of your code using the `set_state` API described in the previous section.\n",
    "\n",
    "### Increasing granularity of the profiler output\n",
    "\n",
    "MXNet executes computation graphs in 'bulk mode' which reduces kernel launch gaps in between symbolic operators for faster execution. This could reduce the granularity of the profiler output. If you need profiling result of every operator, please set the environment variables `MXNET_EXEC_BULK_EXEC_INFERENCE` and `MXNET_EXEC_BULK_EXEC_TRAIN` to `0` to disable the bulk execution mode.\n",
    "\n",
    "### Viewing profiler output\n",
    "\n",
    "There are two ways to view the information collected by the profiler. You can either view it in the console or you can view a more graphical version in a browser.\n",
    "\n",
    "#### 1. View in console\n",
    "\n",
    "You can use the `profiler.dumps()` method to view the information collected by the profiler in the console. The collected information contains time taken by each operator, time taken by each C API and memory consumed in both CPU and GPU."
   ]
  },
  {
   "cell_type": "code",
   "execution_count": 8,
   "metadata": {},
   "outputs": [
    {
     "name": "stdout",
     "output_type": "stream",
     "text": [
      "\n",
      "Profile Statistics.\n",
      "\tNote that counter items are counter values and not time units.\n",
      "Device Storage\n",
      "=================\n",
      "Name                          Total Count        Time (ms)    Min Time (ms)    Max Time (ms)    Avg Time (ms)\n",
      "----                          -----------        ---------    -------------    -------------    -------------\n",
      "Memory: cpu/0                         194           0.0000           0.0000        9048.0645        4524.0322\n",
      "\n",
      "MXNET_C_API\n",
      "=================\n",
      "Name                          Total Count        Time (ms)    Min Time (ms)    Max Time (ms)    Avg Time (ms)\n",
      "----                          -----------        ---------    -------------    -------------    -------------\n",
      "MXNDArrayWaitAll                        1          28.5940          28.5940          28.5940          28.5940\n",
      "MXNDArrayGetGradState                   8           0.0020           0.0000           0.0010           0.0003\n",
      "MXAutogradBackwardEx                    1           0.8630           0.8630           0.8630           0.8630\n",
      "MXNDArrayReshape64                      1           0.0270           0.0270           0.0270           0.0270\n",
      "MXNDArraySetGradState                   8           0.0060           0.0000           0.0010           0.0008\n",
      "MXAutogradSetIsTraining                 2           0.0010           0.0000           0.0010           0.0005\n",
      "MXNDArrayGetDType                       1           0.0000           0.0000           0.0000           0.0000\n",
      "MXNDArrayGetShape                      67           0.0260           0.0000           0.0010           0.0004\n",
      "MXImperativeInvokeEx                   86           1.4360           0.0080           0.1020           0.0167\n",
      "MXAutogradSetIsRecording                2           0.0010           0.0000           0.0010           0.0005\n",
      "MXNet C API Calls                     465           0.4650           0.0010           0.4650           0.2320\n",
      "MXNet C API Concurrency               930           0.0000           0.0000           0.0010           0.0005\n",
      "MXNDArrayAt                            64           0.0480           0.0000           0.0040           0.0008\n",
      "MXNDArrayGetContext                    78           0.0290           0.0000           0.0010           0.0004\n",
      "MXNDArrayCreateEx                       1           0.0040           0.0040           0.0040           0.0040\n",
      "MXNDArrayFree                         144           0.3540           0.0000           0.0100           0.0025\n",
      "MXNDArraySyncCopyFromCPU                1           0.0270           0.0270           0.0270           0.0270\n",
      "\n",
      "operator\n",
      "=================\n",
      "Name                          Total Count        Time (ms)    Min Time (ms)    Max Time (ms)    Avg Time (ms)\n",
      "----                          -----------        ---------    -------------    -------------    -------------\n",
      "_backward_Pooling                       4           2.9550           0.3060           1.1710           0.7387\n",
      "_zeros                                  4           0.1750           0.0260           0.0620           0.0437\n",
      "SetValueOp                              2           0.0110           0.0050           0.0060           0.0055\n",
      "pick                                    2           0.0120           0.0050           0.0070           0.0060\n",
      "DeleteVariable                        196           0.3460           0.0000           0.0060           0.0018\n",
      "Pooling                                 4           7.4730           0.9070           2.8300           1.8683\n",
      "_image_to_tensor                      128           1.0210           0.0060           0.0460           0.0080\n",
      "Convolution                             4           7.5700           1.6330           2.1520           1.8925\n",
      "WaitForVar                              2           0.0090           0.0040           0.0050           0.0045\n",
      "_backward_FullyConnected                4           1.5600           0.0340           0.7470           0.3900\n",
      "_backward_mean                          2           0.0250           0.0120           0.0130           0.0125\n",
      "Activation                              6           0.8880           0.0280           0.3190           0.1480\n",
      "stack                                   2           0.1410           0.0700           0.0710           0.0705\n",
      "_backward_mul_scalar                    2           0.0130           0.0060           0.0070           0.0065\n",
      "_backward_pick                          2           0.0190           0.0090           0.0100           0.0095\n",
      "FullyConnected                          4           1.0530           0.0600           0.4670           0.2632\n",
      "log_softmax                             2           0.0360           0.0170           0.0190           0.0180\n",
      "_backward_copy                          2           0.1180           0.0590           0.0590           0.0590\n",
      "_backward_Convolution                   4          38.1130           7.5940          11.4620           9.5282\n",
      "_mul_scalar                             2           0.0070           0.0030           0.0040           0.0035\n",
      "_backward_log_softmax                   2           0.0200           0.0100           0.0100           0.0100\n",
      "mean                                    2           0.0200           0.0090           0.0110           0.0100\n",
      "sgd_update                             16           0.9620           0.0030           0.4190           0.0601\n",
      "_backward_Activation                    6           1.3700           0.1130           0.3990           0.2283\n",
      "\n",
      "\n"
     ]
    }
   ],
   "source": [
    "print(profiler.dumps())"
   ]
  },
  {
   "cell_type": "markdown",
   "metadata": {},
   "source": [
    "#### 2. View in browser\n",
    "\n",
    "You can also dump the information collected by the profiler into a `json` file using the `profiler.dump()` function and view it in a browser."
   ]
  },
  {
   "cell_type": "code",
   "execution_count": 9,
   "metadata": {},
   "outputs": [],
   "source": [
    "profiler.dump()"
   ]
  },
  {
   "cell_type": "markdown",
   "metadata": {},
   "source": [
    "\n",
    "`dump()` creates a `json` file which can be viewed using a trace consumer like `chrome://tracing` in the Chrome browser. Here is a snapshot that shows the output of the profiling we did above.\n",
    "\n",
    "![Tracing Screenshot](https://raw.githubusercontent.com/dmlc/web-data/master/mxnet/tutorials/python/profiler/profiler_output_chrome.png)\n",
    "\n",
    "Let's zoom in to check the time taken by operators\n",
    "\n",
    "![Operator profiling](https://raw.githubusercontent.com/dmlc/web-data/master/mxnet/tutorials/python/profiler/profile_operators.png)\n",
    "\n",
    "The above picture visualizes the sequence in which the operators were executed and the time taken by each operator.\n",
    "\n",
    "### Further reading\n",
    "\n",
    "- [Examples using MXNet profiler.](https://github.com/apache/incubator-mxnet/tree/master/example/profiler)\n",
    "- [Some tips for improving MXNet performance.](https://mxnet.incubator.apache.org/faq/perf.html)\n",
    "\n",
    "<!-- INSERT SOURCE DOWNLOAD BUTTONS -->\n",
    "\n",
    "\n"
   ]
  }
 ],
 "metadata": {
  "display_name": "",
  "kernelspec": {
   "display_name": "Environment (conda_mxnet_p36)",
   "language": "python",
   "name": "conda_mxnet_p36"
  },
  "language_info": {
   "codemirror_mode": {
    "name": "ipython",
    "version": 3
   },
   "file_extension": ".py",
   "mimetype": "text/x-python",
   "name": "python",
   "nbconvert_exporter": "python",
   "pygments_lexer": "ipython3",
   "version": "3.6.6"
  },
  "name": ""
 },
 "nbformat": 4,
 "nbformat_minor": 2
}
