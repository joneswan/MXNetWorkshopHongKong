{
 "cells": [
  {
   "cell_type": "markdown",
   "metadata": {},
   "source": [
    "# Remote Debugging with PyCharm"
   ]
  },
  {
   "cell_type": "markdown",
   "metadata": {},
   "source": [
    "### EC2 Setup"
   ]
  },
  {
   "cell_type": "markdown",
   "metadata": {},
   "source": [
    "1. Start EC2 Instance using DLAMI. Optionally assign an Elastic IP.\n",
    "2. Configure `~/.ssh/config`\n",
    "\n",
    "```\n",
    "Host p3.2xlarge.com\n",
    "     HostName ec2-35-170-64-133.compute-1.amazonaws.com\n",
    "     User ubuntu\n",
    "     IdentityFile ~/.ssh/tholane-mxnet.pem\n",
    "     # TensorBoard\n",
    "     LocalForward 6006 localhost:6006\n",
    "     LocalForward 8080 localhost:8080\n",
    "     # Jupyter Notebook\n",
    "     LocalForward 8888 localhost:8888\n",
    "```\n",
    "3. SSH onto machine: `ssh p3.2xlarge.com`\n",
    "4. Clone GluonBootcamp repository on EC2 Instance"
   ]
  },
  {
   "cell_type": "markdown",
   "metadata": {},
   "source": [
    "### PyCharm Setup\n",
    "\n",
    "1. Open PyCharm\n",
    "2. Open local copy of GluonBootcamp\n",
    "3. Preferences -> Build, Execution, Deployment -> Deployment\n",
    "4. Add server (alias name, and type SFTP)\n",
    "5. SFTP host as p3.2xlarge.com\n",
    "6. Auth type to OpenSSH\n",
    "7. username ubuntu\n",
    "8. Test SFTP connection...\n",
    "9. Uncheck Visible only for this project\n",
    "10. Mappings tab, change deployment path on server to location of checkout repository\n",
    "11. Set as default\n",
    "12. Apply\n",
    "13. Deployment -> Options (use drop down arrow)\n",
    "14. Upload changed file automatically to the default server: On explicit save action."
   ]
  },
  {
   "cell_type": "markdown",
   "metadata": {},
   "source": [
    "### Remote debugging"
   ]
  },
  {
   "cell_type": "markdown",
   "metadata": {},
   "source": [
    "1. Project: GluonBootcamp -> Project Interpreter\n",
    "2. Show all\n",
    "2. Add remote\n",
    "3. Deployment configuration radio button\n",
    "4. Select server just added above\n",
    "5. /home/ubuntu/anaconda3/envs/xyz/bin/python\n",
    "6. Pencil icon, to edit, and change name to something shorter."
   ]
  },
  {
   "cell_type": "markdown",
   "metadata": {},
   "source": [
    "### Configure CUDA"
   ]
  },
  {
   "cell_type": "markdown",
   "metadata": {},
   "source": [
    "Without the following steps you are likely to get the following error:\n",
    "    \n",
    "`OSError: libcudart.so.9.0: cannot open shared object file: No such file or directory`"
   ]
  },
  {
   "cell_type": "markdown",
   "metadata": {},
   "source": [
    "1. Right click entry point file, and \"Run 'name of file'\".\n",
    "2. Click configurations drop down (should see name of file you right clicked on, top right corner)\n",
    "3. Edit Configurations...\n",
    "5. Environment Variables, click '...' to add the following:"
   ]
  },
  {
   "cell_type": "markdown",
   "metadata": {},
   "source": [
    "| Name | Key |\n",
    "| --- | --- |\n",
    "| LD_LIBRARY_PATH |/usr/local/cuda/lib64:$LD_LIBRARY_PATH |"
   ]
  }
 ],
 "metadata": {
  "kernelspec": {
   "display_name": "Environment (conda_mxnet_p36)",
   "language": "python",
   "name": "conda_mxnet_p36"
  },
  "language_info": {
   "codemirror_mode": {
    "name": "ipython",
    "version": 3
   },
   "file_extension": ".py",
   "mimetype": "text/x-python",
   "name": "python",
   "nbconvert_exporter": "python",
   "pygments_lexer": "ipython3",
   "version": "3.6.4"
  }
 },
 "nbformat": 4,
 "nbformat_minor": 2
}
