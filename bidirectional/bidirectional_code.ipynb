{
 "cells": [
  {
   "cell_type": "markdown",
   "metadata": {},
   "source": [
    "# Stacked Bi-directional LSTMs in Gluon"
   ]
  },
  {
   "cell_type": "markdown",
   "metadata": {},
   "source": [
    "Starting with a plain RNN, we'll look at various modifications and build up to the complete Stacked Bi-directional LSTM model."
   ]
  },
  {
   "cell_type": "markdown",
   "metadata": {},
   "source": [
    "* Base: __RNN__\n",
    "* Modification: __Stacked RNN__\n",
    "* Modification: __Bi-directional RNN__\n",
    "* Modification: __LSTM__\n",
    "* Combined: __Stacked Bi-directional LSTM__"
   ]
  },
  {
   "cell_type": "markdown",
   "metadata": {},
   "source": [
    "# Base: RNN"
   ]
  },
  {
   "cell_type": "markdown",
   "metadata": {},
   "source": [
    "### Implicit initial hidden state"
   ]
  },
  {
   "cell_type": "code",
   "execution_count": 74,
   "metadata": {},
   "outputs": [],
   "source": [
    "import mxnet as mx"
   ]
  },
  {
   "cell_type": "code",
   "execution_count": 75,
   "metadata": {},
   "outputs": [
    {
     "data": {
      "text/plain": [
       "\n",
       "[[ 0.98734874  0.91809195  0.75928247]\n",
       " [ 0.57968092  0.36454463  0.45589843]\n",
       " [ 0.50106317  0.64235175  0.37638915]\n",
       " [ 0.25402522  0.36491182  0.55107915]\n",
       " [ 0.26090449  0.13190325  0.49597031]]\n",
       "<NDArray 5x3 @cpu(0)>"
      ]
     },
     "execution_count": 75,
     "metadata": {},
     "output_type": "execute_result"
    }
   ],
   "source": [
    "sequence_length = 4\n",
    "batch_size = 5\n",
    "channels = 3\n",
    "\n",
    "inputs = mx.nd.random.uniform(shape=(sequence_length, batch_size, channels))\n",
    "first_input = inputs[0]\n",
    "first_input"
   ]
  },
  {
   "cell_type": "code",
   "execution_count": 76,
   "metadata": {},
   "outputs": [],
   "source": [
    "hid_layers = 1\n",
    "hid_units = 6\n",
    "\n",
    "rnn = mx.gluon.rnn.RNN(hidden_size=hid_units, num_layers=hid_layers, layout='TNC')"
   ]
  },
  {
   "cell_type": "code",
   "execution_count": 77,
   "metadata": {},
   "outputs": [],
   "source": [
    "# lazy initialize weights\n",
    "rnn.initialize()"
   ]
  },
  {
   "cell_type": "code",
   "execution_count": 78,
   "metadata": {},
   "outputs": [],
   "source": [
    "# since not provided, will initialize hidden state to zeros of approprate shape\n",
    "outputs = rnn(inputs)"
   ]
  },
  {
   "cell_type": "code",
   "execution_count": 79,
   "metadata": {},
   "outputs": [
    {
     "data": {
      "text/plain": [
       "(4, 5, 6)"
      ]
     },
     "execution_count": 79,
     "metadata": {},
     "output_type": "execute_result"
    }
   ],
   "source": [
    "# for a plain rnn, output is the same as hidden state. get it for every time step.\n",
    "outputs.shape"
   ]
  },
  {
   "cell_type": "code",
   "execution_count": 80,
   "metadata": {},
   "outputs": [
    {
     "data": {
      "text/plain": [
       "\n",
       "[[ 0.          0.          0.07570447  0.03122622  0.02412307  0.        ]\n",
       " [ 0.          0.          0.07036699  0.03546758  0.02842021  0.01387072]\n",
       " [ 0.          0.          0.07198478  0.03106744  0.02606469  0.02974632]\n",
       " [ 0.          0.          0.06010557  0.01828784  0.02100974  0.04091441]\n",
       " [ 0.          0.          0.02801176  0.00882845  0.01097421  0.02552567]]\n",
       "<NDArray 5x6 @cpu(0)>"
      ]
     },
     "execution_count": 80,
     "metadata": {},
     "output_type": "execute_result"
    }
   ],
   "source": [
    "final_output = outputs[-1]\n",
    "final_output"
   ]
  },
  {
   "cell_type": "markdown",
   "metadata": {},
   "source": [
    "### Explicit initial hidden state"
   ]
  },
  {
   "cell_type": "code",
   "execution_count": 81,
   "metadata": {},
   "outputs": [],
   "source": [
    "hid_init = mx.nd.random.uniform(shape=(hid_layers, batch_size, hid_units))"
   ]
  },
  {
   "cell_type": "code",
   "execution_count": 82,
   "metadata": {},
   "outputs": [],
   "source": [
    "# get tuple returned\n",
    "outputs, hid_states = rnn(inputs, hid_init)"
   ]
  },
  {
   "cell_type": "code",
   "execution_count": 83,
   "metadata": {},
   "outputs": [
    {
     "data": {
      "text/plain": [
       "(4, 5, 6)"
      ]
     },
     "execution_count": 83,
     "metadata": {},
     "output_type": "execute_result"
    }
   ],
   "source": [
    "outputs.shape"
   ]
  },
  {
   "cell_type": "code",
   "execution_count": 84,
   "metadata": {},
   "outputs": [
    {
     "data": {
      "text/plain": [
       "\n",
       "[[ 0.          0.          0.07571341  0.03124048  0.02413538  0.        ]\n",
       " [ 0.          0.          0.07037674  0.03546442  0.02842471  0.01386217]\n",
       " [ 0.          0.          0.07199639  0.03109403  0.0260729   0.02971762]\n",
       " [ 0.          0.          0.0601346   0.01827844  0.02102314  0.04088894]\n",
       " [ 0.          0.          0.02804597  0.00882176  0.01098775  0.02550704]]\n",
       "<NDArray 5x6 @cpu(0)>"
      ]
     },
     "execution_count": 84,
     "metadata": {},
     "output_type": "execute_result"
    }
   ],
   "source": [
    "final_output = outputs[-1]\n",
    "final_output"
   ]
  },
  {
   "cell_type": "code",
   "execution_count": 85,
   "metadata": {},
   "outputs": [
    {
     "data": {
      "text/plain": [
       "1"
      ]
     },
     "execution_count": 85,
     "metadata": {},
     "output_type": "execute_result"
    }
   ],
   "source": [
    "# single hidden state between blocks for plain rnn\n",
    "len(hid_states)"
   ]
  },
  {
   "cell_type": "code",
   "execution_count": 86,
   "metadata": {},
   "outputs": [
    {
     "data": {
      "text/plain": [
       "(1, 5, 6)"
      ]
     },
     "execution_count": 86,
     "metadata": {},
     "output_type": "execute_result"
    }
   ],
   "source": [
    "# only get for last time step\n",
    "hid_states[0].shape"
   ]
  },
  {
   "cell_type": "code",
   "execution_count": 87,
   "metadata": {},
   "outputs": [
    {
     "data": {
      "text/plain": [
       "\n",
       "[[[ 0.          0.          0.07571341  0.03124048  0.02413538  0.        ]\n",
       "  [ 0.          0.          0.07037674  0.03546442  0.02842471  0.01386217]\n",
       "  [ 0.          0.          0.07199639  0.03109403  0.0260729   0.02971762]\n",
       "  [ 0.          0.          0.0601346   0.01827844  0.02102314  0.04088894]\n",
       "  [ 0.          0.          0.02804597  0.00882176  0.01098775  0.02550704]]]\n",
       "<NDArray 1x5x6 @cpu(0)>"
      ]
     },
     "execution_count": 87,
     "metadata": {},
     "output_type": "execute_result"
    }
   ],
   "source": [
    "# same as final_output\n",
    "hid_states[0]"
   ]
  },
  {
   "cell_type": "markdown",
   "metadata": {},
   "source": [
    "# Modification: Stacked RNN"
   ]
  },
  {
   "cell_type": "code",
   "execution_count": 88,
   "metadata": {},
   "outputs": [],
   "source": [
    "hid_layers = 2"
   ]
  },
  {
   "cell_type": "code",
   "execution_count": 89,
   "metadata": {},
   "outputs": [],
   "source": [
    "stack_rnn = mx.gluon.rnn.RNN(hidden_size=hid_units, num_layers=hid_layers, layout='TNC')\n",
    "stack_rnn.initialize()"
   ]
  },
  {
   "cell_type": "code",
   "execution_count": 90,
   "metadata": {},
   "outputs": [],
   "source": [
    "hid_init = mx.nd.random.uniform(shape=(hid_layers, batch_size, hid_units))\n",
    "outputs, hid_states = stack_rnn(inputs, hid_init)"
   ]
  },
  {
   "cell_type": "code",
   "execution_count": 91,
   "metadata": {},
   "outputs": [
    {
     "data": {
      "text/plain": [
       "(4, 5, 6)"
      ]
     },
     "execution_count": 91,
     "metadata": {},
     "output_type": "execute_result"
    }
   ],
   "source": [
    "# output unchanged by number of layers. once again, one per time step\n",
    "outputs.shape"
   ]
  },
  {
   "cell_type": "code",
   "execution_count": 92,
   "metadata": {},
   "outputs": [
    {
     "data": {
      "text/plain": [
       "\n",
       "[[ 0.00406747  0.          0.          0.00646659  0.          0.00679768]\n",
       " [ 0.00386951  0.          0.          0.00600511  0.00066995  0.0054298 ]\n",
       " [ 0.0037198   0.          0.          0.00581633  0.00157896  0.00428085]\n",
       " [ 0.00373613  0.          0.          0.00632023  0.00210966  0.00340568]\n",
       " [ 0.00151994  0.          0.          0.00328808  0.00111398  0.00152676]]\n",
       "<NDArray 5x6 @cpu(0)>"
      ]
     },
     "execution_count": 92,
     "metadata": {},
     "output_type": "execute_result"
    }
   ],
   "source": [
    "final_output = outputs[-1]\n",
    "final_output"
   ]
  },
  {
   "cell_type": "code",
   "execution_count": 93,
   "metadata": {},
   "outputs": [
    {
     "data": {
      "text/plain": [
       "1"
      ]
     },
     "execution_count": 93,
     "metadata": {},
     "output_type": "execute_result"
    }
   ],
   "source": [
    "# single hidden state between blocks for plain rnn\n",
    "len(hid_states)"
   ]
  },
  {
   "cell_type": "code",
   "execution_count": 94,
   "metadata": {},
   "outputs": [
    {
     "data": {
      "text/plain": [
       "(2, 5, 6)"
      ]
     },
     "execution_count": 94,
     "metadata": {},
     "output_type": "execute_result"
    }
   ],
   "source": [
    "# but now have more hidden states (last step only)\n",
    "hid_states[0].shape"
   ]
  },
  {
   "cell_type": "code",
   "execution_count": 95,
   "metadata": {},
   "outputs": [
    {
     "data": {
      "text/plain": [
       "\n",
       "[[[ 0.05187661  0.03314793  0.08078527  0.08762819  0.02698768  0.        ]\n",
       "  [ 0.0393471   0.02712335  0.08269582  0.07542091  0.01029002  0.        ]\n",
       "  [ 0.02794424  0.02142053  0.08560424  0.06404411  0.          0.        ]\n",
       "  [ 0.00873652  0.01335483  0.09287432  0.04383021  0.          0.        ]\n",
       "  [ 0.          0.00535677  0.04472532  0.01648927  0.          0.        ]]\n",
       "\n",
       " [[ 0.00406747  0.          0.          0.00646659  0.          0.00679768]\n",
       "  [ 0.00386951  0.          0.          0.00600511  0.00066995  0.0054298 ]\n",
       "  [ 0.0037198   0.          0.          0.00581633  0.00157896  0.00428085]\n",
       "  [ 0.00373613  0.          0.          0.00632023  0.00210966  0.00340568]\n",
       "  [ 0.00151994  0.          0.          0.00328808  0.00111398  0.00152676]]]\n",
       "<NDArray 2x5x6 @cpu(0)>"
      ]
     },
     "execution_count": 95,
     "metadata": {},
     "output_type": "execute_result"
    }
   ],
   "source": [
    "# see last element is same as output (first is not part of output)\n",
    "hid_states[0]"
   ]
  },
  {
   "cell_type": "markdown",
   "metadata": {},
   "source": [
    "# Modification: Bi-directional RNNs"
   ]
  },
  {
   "cell_type": "code",
   "execution_count": 96,
   "metadata": {},
   "outputs": [],
   "source": [
    "hid_layers = 1\n",
    "bidirectional = True"
   ]
  },
  {
   "cell_type": "code",
   "execution_count": 97,
   "metadata": {},
   "outputs": [],
   "source": [
    "bidir_rnn = mx.gluon.rnn.RNN(hidden_size=hid_units, num_layers=hid_layers, layout='TNC', bidirectional=bidirectional)\n",
    "bidir_rnn.initialize()"
   ]
  },
  {
   "cell_type": "code",
   "execution_count": 98,
   "metadata": {},
   "outputs": [],
   "source": [
    "# now hid_layers * 2, initial hidden states for forward and backward rnns.\n",
    "hid_init = mx.nd.random.uniform(shape=(hid_layers * 2, batch_size, hid_units))\n",
    "outputs, hid_states = bidir_rnn(inputs, hid_init)"
   ]
  },
  {
   "cell_type": "code",
   "execution_count": 99,
   "metadata": {},
   "outputs": [
    {
     "data": {
      "text/plain": [
       "(4, 5, 12)"
      ]
     },
     "execution_count": 99,
     "metadata": {},
     "output_type": "execute_result"
    }
   ],
   "source": [
    "# hid_units * 2 channels\n",
    "# 6 from forward rnn, 6 from backward rnn, concatenated to give 12\n",
    "outputs.shape"
   ]
  },
  {
   "cell_type": "code",
   "execution_count": 100,
   "metadata": {},
   "outputs": [
    {
     "data": {
      "text/plain": [
       "\n",
       "[[ 0.08956115  0.          0.          0.03769168  0.          0.04953455\n",
       "   0.          0.04680495  0.02324563  0.11417244  0.          0.06207506]\n",
       " [ 0.08177032  0.          0.          0.04138822  0.          0.02983724\n",
       "   0.          0.05591435  0.          0.07984196  0.04715843  0.04717504]\n",
       " [ 0.07705043  0.          0.          0.040458    0.          0.02450354\n",
       "   0.          0.05141705  0.          0.09351053  0.02774166  0.04651833]\n",
       " [ 0.0664442   0.          0.          0.03642423  0.          0.00982516\n",
       "   0.          0.10003141  0.          0.12314523  0.          0.01361769]\n",
       " [ 0.02545916  0.          0.          0.01715774  0.          0.          0.\n",
       "   0.07882698  0.02267237  0.0498731   0.01533458  0.01271129]]\n",
       "<NDArray 5x12 @cpu(0)>"
      ]
     },
     "execution_count": 100,
     "metadata": {},
     "output_type": "execute_result"
    }
   ],
   "source": [
    "final_output = outputs[-1]\n",
    "final_output"
   ]
  },
  {
   "cell_type": "code",
   "execution_count": 101,
   "metadata": {},
   "outputs": [
    {
     "data": {
      "text/plain": [
       "\n",
       "[[ 0.08956115  0.          0.          0.03769168  0.          0.04953455]\n",
       " [ 0.08177032  0.          0.          0.04138822  0.          0.02983724]\n",
       " [ 0.07705043  0.          0.          0.040458    0.          0.02450354]\n",
       " [ 0.0664442   0.          0.          0.03642423  0.          0.00982516]\n",
       " [ 0.02545916  0.          0.          0.01715774  0.          0.        ]]\n",
       "<NDArray 5x6 @cpu(0)>"
      ]
     },
     "execution_count": 101,
     "metadata": {},
     "output_type": "execute_result"
    }
   ],
   "source": [
    "# from forward rnn\n",
    "final_output[:,:6]"
   ]
  },
  {
   "cell_type": "code",
   "execution_count": 102,
   "metadata": {},
   "outputs": [
    {
     "data": {
      "text/plain": [
       "1"
      ]
     },
     "execution_count": 102,
     "metadata": {},
     "output_type": "execute_result"
    }
   ],
   "source": [
    "# single hidden state between blocks for plain rnn\n",
    "len(hid_states)"
   ]
  },
  {
   "cell_type": "code",
   "execution_count": 103,
   "metadata": {},
   "outputs": [
    {
     "data": {
      "text/plain": [
       "\n",
       "[[[ 0.08956115  0.          0.          0.03769168  0.          0.04953455]\n",
       "  [ 0.08177032  0.          0.          0.04138822  0.          0.02983724]\n",
       "  [ 0.07705043  0.          0.          0.040458    0.          0.02450354]\n",
       "  [ 0.0664442   0.          0.          0.03642423  0.          0.00982516]\n",
       "  [ 0.02545916  0.          0.          0.01715774  0.          0.        ]]\n",
       "\n",
       " [[ 0.          0.06210476  0.          0.1196948   0.03029597  0.        ]\n",
       "  [ 0.          0.0277768   0.          0.05905489  0.02285744  0.00437873]\n",
       "  [ 0.          0.04278467  0.          0.07068352  0.01208621  0.        ]\n",
       "  [ 0.          0.04355423  0.          0.03600511  0.02986493  0.        ]\n",
       "  [ 0.          0.02898492  0.          0.02716501  0.02252049  0.        ]]]\n",
       "<NDArray 2x5x6 @cpu(0)>"
      ]
     },
     "execution_count": 103,
     "metadata": {},
     "output_type": "execute_result"
    }
   ],
   "source": [
    "# forward rnn hidden, then backward rnn hidden\n",
    "# BUT from different time steps! orward rnn hidden from last time step, backward rnn hidden from first time step.\n",
    "# useful when feeding a decoder, otherwise backward rnn only seen 1 example by step n.\n",
    "hid_states[0]"
   ]
  },
  {
   "cell_type": "code",
   "execution_count": 104,
   "metadata": {},
   "outputs": [
    {
     "data": {
      "text/plain": [
       "\n",
       "[[ 0.08956115  0.          0.          0.03769168  0.          0.04953455]\n",
       " [ 0.08177032  0.          0.          0.04138822  0.          0.02983724]\n",
       " [ 0.07705043  0.          0.          0.040458    0.          0.02450354]\n",
       " [ 0.0664442   0.          0.          0.03642423  0.          0.00982516]\n",
       " [ 0.02545916  0.          0.          0.01715774  0.          0.        ]]\n",
       "<NDArray 5x6 @cpu(0)>"
      ]
     },
     "execution_count": 104,
     "metadata": {},
     "output_type": "execute_result"
    }
   ],
   "source": [
    "# same as first 6 channels of output at last stage\n",
    "hid_states[0][0]"
   ]
  },
  {
   "cell_type": "code",
   "execution_count": 105,
   "metadata": {},
   "outputs": [
    {
     "data": {
      "text/plain": [
       "\n",
       "[[ 0.06676939  0.          0.04957572  0.          0.          0.          0.\n",
       "   0.06210476  0.          0.1196948   0.03029597  0.        ]\n",
       " [ 0.          0.04321212  0.04632973  0.          0.01752034  0.01783034\n",
       "   0.          0.0277768   0.          0.05905489  0.02285744  0.00437873]\n",
       " [ 0.          0.0462874   0.03006371  0.          0.03545707  0.          0.\n",
       "   0.04278467  0.          0.07068352  0.01208621  0.        ]\n",
       " [ 0.02601724  0.00984341  0.01533633  0.          0.          0.          0.\n",
       "   0.04355423  0.          0.03600511  0.02986493  0.        ]\n",
       " [ 0.01376808  0.00530647  0.          0.          0.          0.01757525\n",
       "   0.          0.02898492  0.          0.02716501  0.02252049  0.        ]]\n",
       "<NDArray 5x12 @cpu(0)>"
      ]
     },
     "execution_count": 105,
     "metadata": {},
     "output_type": "execute_result"
    }
   ],
   "source": [
    "first_output = outputs[0]\n",
    "first_output"
   ]
  },
  {
   "cell_type": "code",
   "execution_count": 106,
   "metadata": {},
   "outputs": [
    {
     "data": {
      "text/plain": [
       "\n",
       "[[ 0.          0.06210476  0.          0.1196948   0.03029597  0.        ]\n",
       " [ 0.          0.0277768   0.          0.05905489  0.02285744  0.00437873]\n",
       " [ 0.          0.04278467  0.          0.07068352  0.01208621  0.        ]\n",
       " [ 0.          0.04355423  0.          0.03600511  0.02986493  0.        ]\n",
       " [ 0.          0.02898492  0.          0.02716501  0.02252049  0.        ]]\n",
       "<NDArray 5x6 @cpu(0)>"
      ]
     },
     "execution_count": 106,
     "metadata": {},
     "output_type": "execute_result"
    }
   ],
   "source": [
    "# from backward rnn\n",
    "first_output[:,6:]"
   ]
  },
  {
   "cell_type": "code",
   "execution_count": 107,
   "metadata": {},
   "outputs": [
    {
     "data": {
      "text/plain": [
       "\n",
       "[[ 0.          0.06210476  0.          0.1196948   0.03029597  0.        ]\n",
       " [ 0.          0.0277768   0.          0.05905489  0.02285744  0.00437873]\n",
       " [ 0.          0.04278467  0.          0.07068352  0.01208621  0.        ]\n",
       " [ 0.          0.04355423  0.          0.03600511  0.02986493  0.        ]\n",
       " [ 0.          0.02898492  0.          0.02716501  0.02252049  0.        ]]\n",
       "<NDArray 5x6 @cpu(0)>"
      ]
     },
     "execution_count": 107,
     "metadata": {},
     "output_type": "execute_result"
    }
   ],
   "source": [
    "# same as last 6 channels of output at first stage\n",
    "hid_states[0][1]"
   ]
  },
  {
   "cell_type": "markdown",
   "metadata": {},
   "source": [
    "# Modification: LSTM"
   ]
  },
  {
   "cell_type": "code",
   "execution_count": 108,
   "metadata": {},
   "outputs": [],
   "source": [
    "hid_layers = 1"
   ]
  },
  {
   "cell_type": "code",
   "execution_count": 109,
   "metadata": {},
   "outputs": [],
   "source": [
    "lstm = mx.gluon.rnn.LSTM(hidden_size=hid_units, num_layers=hid_layers, layout='TNC')\n",
    "lstm.initialize()"
   ]
  },
  {
   "cell_type": "code",
   "execution_count": 110,
   "metadata": {},
   "outputs": [],
   "source": [
    "hid_init_h = mx.nd.random.uniform(shape=(hid_layers, batch_size, hid_units))\n",
    "hid_init_c = mx.nd.random.uniform(shape=(hid_layers, batch_size, hid_units))\n",
    "hid_init = [hid_init_h, hid_init_c]\n",
    "outputs, hid_states = lstm(inputs, hid_init)"
   ]
  },
  {
   "cell_type": "code",
   "execution_count": 111,
   "metadata": {},
   "outputs": [
    {
     "data": {
      "text/plain": [
       "(4, 5, 6)"
      ]
     },
     "execution_count": 111,
     "metadata": {},
     "output_type": "execute_result"
    }
   ],
   "source": [
    "# output same as before\n",
    "outputs.shape"
   ]
  },
  {
   "cell_type": "code",
   "execution_count": 112,
   "metadata": {},
   "outputs": [
    {
     "data": {
      "text/plain": [
       "\n",
       "[[ 0.01253454 -0.02345554  0.02795083  0.02464588  0.00788901  0.02751796]\n",
       " [ 0.01594986 -0.0184415   0.03759725  0.01181254  0.0063988   0.02784991]\n",
       " [ 0.0094468  -0.00300365  0.03994624 -0.00055172  0.03623314  0.01056249]\n",
       " [ 0.01638241  0.00139618  0.04743286  0.01258996  0.02631953  0.02926661]\n",
       " [ 0.00316927 -0.01528073  0.04393305  0.00166157  0.01046809  0.01166981]]\n",
       "<NDArray 5x6 @cpu(0)>"
      ]
     },
     "execution_count": 112,
     "metadata": {},
     "output_type": "execute_result"
    }
   ],
   "source": [
    "final_output = outputs[-1]\n",
    "final_output"
   ]
  },
  {
   "cell_type": "code",
   "execution_count": 113,
   "metadata": {},
   "outputs": [
    {
     "data": {
      "text/plain": [
       "2"
      ]
     },
     "execution_count": 113,
     "metadata": {},
     "output_type": "execute_result"
    }
   ],
   "source": [
    "# now have two cell memory and hidden state\n",
    "len(hid_states)"
   ]
  },
  {
   "cell_type": "code",
   "execution_count": 114,
   "metadata": {},
   "outputs": [
    {
     "data": {
      "text/plain": [
       "(1, 5, 6)"
      ]
     },
     "execution_count": 114,
     "metadata": {},
     "output_type": "execute_result"
    }
   ],
   "source": [
    "# hidden state (bottom line in diagram)\n",
    "hid_states[0].shape"
   ]
  },
  {
   "cell_type": "code",
   "execution_count": 115,
   "metadata": {},
   "outputs": [
    {
     "data": {
      "text/plain": [
       "(1, 5, 6)"
      ]
     },
     "execution_count": 115,
     "metadata": {},
     "output_type": "execute_result"
    }
   ],
   "source": [
    "# cell memory (top line in diagram)\n",
    "hid_states[1].shape"
   ]
  },
  {
   "cell_type": "code",
   "execution_count": 116,
   "metadata": {},
   "outputs": [
    {
     "data": {
      "text/plain": [
       "\n",
       "[[[ 0.01253454 -0.02345554  0.02795083  0.02464588  0.00788901  0.02751796]\n",
       "  [ 0.01594986 -0.0184415   0.03759725  0.01181254  0.0063988   0.02784991]\n",
       "  [ 0.0094468  -0.00300365  0.03994624 -0.00055172  0.03623314  0.01056249]\n",
       "  [ 0.01638241  0.00139618  0.04743286  0.01258996  0.02631953  0.02926661]\n",
       "  [ 0.00316927 -0.01528073  0.04393305  0.00166157  0.01046809  0.01166981]]]\n",
       "<NDArray 1x5x6 @cpu(0)>"
      ]
     },
     "execution_count": 116,
     "metadata": {},
     "output_type": "execute_result"
    }
   ],
   "source": [
    "# same as the output for uni-directional and non-stacked case\n",
    "hid_states[0]"
   ]
  },
  {
   "cell_type": "markdown",
   "metadata": {},
   "source": [
    "# Combined: Stacked Bi-directional LSTM"
   ]
  },
  {
   "cell_type": "code",
   "execution_count": 117,
   "metadata": {},
   "outputs": [],
   "source": [
    "hid_layers = 2\n",
    "bidirectional = True"
   ]
  },
  {
   "cell_type": "code",
   "execution_count": 118,
   "metadata": {},
   "outputs": [],
   "source": [
    "stack_bidir_lstm = mx.gluon.rnn.LSTM(hidden_size=hid_units, num_layers=hid_layers, layout='TNC', bidirectional=bidirectional)\n",
    "stack_bidir_lstm.initialize()"
   ]
  },
  {
   "cell_type": "code",
   "execution_count": 119,
   "metadata": {},
   "outputs": [],
   "source": [
    "# 2 * hid_layers (since bi-directional)\n",
    "hid_init_h = mx.nd.random.uniform(shape=(2*hid_layers, batch_size, hid_units))\n",
    "hid_init_c = mx.nd.random.uniform(shape=(2*hid_layers, batch_size, hid_units))\n",
    "hid_init = [hid_init_h, hid_init_c]\n",
    "outputs, hid_states = stack_bidir_lstm(inputs, hid_init)"
   ]
  },
  {
   "cell_type": "code",
   "execution_count": 120,
   "metadata": {},
   "outputs": [
    {
     "data": {
      "text/plain": [
       "(4, 5, 12)"
      ]
     },
     "execution_count": 120,
     "metadata": {},
     "output_type": "execute_result"
    }
   ],
   "source": [
    "# 2 * hid_units = 12 channels since bi-directional\n",
    "outputs.shape"
   ]
  },
  {
   "cell_type": "code",
   "execution_count": 121,
   "metadata": {},
   "outputs": [
    {
     "data": {
      "text/plain": [
       "\n",
       "[[ 0.02836313  0.00606763  0.02310923  0.00844923  0.03136069  0.00835426\n",
       "   0.00834884  0.22160307  0.16497645  0.17498061  0.17497027  0.16968904]\n",
       " [ 0.02018425 -0.00205736  0.02368148  0.01517256  0.02936829  0.01105657\n",
       "  -0.00114159  0.02814094  0.06628538  0.18898237  0.02543253  0.16276605]\n",
       " [ 0.02180842  0.02542746  0.04244835 -0.00741896  0.03391297  0.00343686\n",
       "   0.18560167  0.15380849  0.1863319   0.14486022  0.11376306  0.03071362]\n",
       " [ 0.01190888  0.00480322  0.01914669  0.004719    0.01296413 -0.00054099\n",
       "   0.05539425  0.09306861  0.21310844  0.12720783  0.08961899  0.15656401]\n",
       " [ 0.01545303  0.00941906  0.02581433  0.01284648  0.00813204  0.00568986\n",
       "   0.19248244  0.0284084   0.17106406  0.02503861  0.10314985  0.01844846]]\n",
       "<NDArray 5x12 @cpu(0)>"
      ]
     },
     "execution_count": 121,
     "metadata": {},
     "output_type": "execute_result"
    }
   ],
   "source": [
    "final_output = outputs[-1]\n",
    "final_output"
   ]
  },
  {
   "cell_type": "code",
   "execution_count": 122,
   "metadata": {},
   "outputs": [
    {
     "data": {
      "text/plain": [
       "\n",
       "[[ 0.02836313  0.00606763  0.02310923  0.00844923  0.03136069  0.00835426]\n",
       " [ 0.02018425 -0.00205736  0.02368148  0.01517256  0.02936829  0.01105657]\n",
       " [ 0.02180842  0.02542746  0.04244835 -0.00741896  0.03391297  0.00343686]\n",
       " [ 0.01190888  0.00480322  0.01914669  0.004719    0.01296413 -0.00054099]\n",
       " [ 0.01545303  0.00941906  0.02581433  0.01284648  0.00813204  0.00568986]]\n",
       "<NDArray 5x6 @cpu(0)>"
      ]
     },
     "execution_count": 122,
     "metadata": {},
     "output_type": "execute_result"
    }
   ],
   "source": [
    "# channels from forward rnn in last step of last layer\n",
    "final_output[:,:6]"
   ]
  },
  {
   "cell_type": "code",
   "execution_count": 123,
   "metadata": {},
   "outputs": [
    {
     "data": {
      "text/plain": [
       "\n",
       "[[ 0.00834884  0.22160307  0.16497645  0.17498061  0.17497027  0.16968904]\n",
       " [-0.00114159  0.02814094  0.06628538  0.18898237  0.02543253  0.16276605]\n",
       " [ 0.18560167  0.15380849  0.1863319   0.14486022  0.11376306  0.03071362]\n",
       " [ 0.05539425  0.09306861  0.21310844  0.12720783  0.08961899  0.15656401]\n",
       " [ 0.19248244  0.0284084   0.17106406  0.02503861  0.10314985  0.01844846]]\n",
       "<NDArray 5x6 @cpu(0)>"
      ]
     },
     "execution_count": 123,
     "metadata": {},
     "output_type": "execute_result"
    }
   ],
   "source": [
    "# channels from backward rnn in last step of last layer\n",
    "final_output[:,6:]"
   ]
  },
  {
   "cell_type": "code",
   "execution_count": 124,
   "metadata": {},
   "outputs": [
    {
     "data": {
      "text/plain": [
       "2"
      ]
     },
     "execution_count": 124,
     "metadata": {},
     "output_type": "execute_result"
    }
   ],
   "source": [
    "len(hid_states)"
   ]
  },
  {
   "cell_type": "code",
   "execution_count": 125,
   "metadata": {},
   "outputs": [
    {
     "data": {
      "text/plain": [
       "(4, 5, 6)"
      ]
     },
     "execution_count": 125,
     "metadata": {},
     "output_type": "execute_result"
    }
   ],
   "source": [
    "# hidden state\n",
    "hid_states[0].shape"
   ]
  },
  {
   "cell_type": "code",
   "execution_count": 126,
   "metadata": {},
   "outputs": [
    {
     "data": {
      "text/plain": [
       "(4, 5, 6)"
      ]
     },
     "execution_count": 126,
     "metadata": {},
     "output_type": "execute_result"
    }
   ],
   "source": [
    "# cell memeory\n",
    "hid_states[1].shape"
   ]
  },
  {
   "cell_type": "code",
   "execution_count": 127,
   "metadata": {},
   "outputs": [
    {
     "data": {
      "text/plain": [
       "\n",
       "[[[  1.03355674e-02   1.60647300e-03   1.32582430e-02   1.38146300e-02\n",
       "    -1.35828340e-02  -1.12173790e-02]\n",
       "  [  2.33832765e-02   1.31784236e-05   2.16201320e-02   2.42266501e-03\n",
       "    -9.80209676e-04  -1.19874710e-02]\n",
       "  [  1.59390830e-02   2.46383925e-03   5.02551533e-03   1.26088131e-02\n",
       "     4.33453452e-03  -2.34422293e-02]\n",
       "  [  1.38091547e-02   1.20086502e-02   4.43106666e-02   7.60523602e-03\n",
       "    -7.71074602e-03  -2.75092013e-02]\n",
       "  [  3.55932228e-02   8.30993708e-03   2.85629816e-02  -1.24422682e-03\n",
       "     5.16857579e-03   6.64406968e-03]]\n",
       "\n",
       " [[  9.75320395e-03   3.27899903e-02   3.42854112e-02   9.73990746e-03\n",
       "    -1.82624068e-02  -4.52016518e-02]\n",
       "  [  2.99503710e-02   4.22814377e-02   1.59972627e-02   3.10577378e-02\n",
       "     3.01205181e-03   3.97029473e-03]\n",
       "  [  2.96767391e-02   4.26794328e-02   1.73485801e-02   7.67373433e-03\n",
       "    -1.50409192e-02  -7.97832385e-03]\n",
       "  [  1.15076527e-02   4.02115956e-02   2.62511540e-02   3.11808214e-02\n",
       "     1.00480448e-02  -1.79561898e-02]\n",
       "  [  2.81295236e-02   1.49088129e-02   1.60030778e-02   1.24025326e-02\n",
       "     8.35588668e-03   2.95655499e-03]]\n",
       "\n",
       " [[  2.83631310e-02   6.06762525e-03   2.31092349e-02   8.44922755e-03\n",
       "     3.13606933e-02   8.35426152e-03]\n",
       "  [  2.01842543e-02  -2.05736188e-03   2.36814823e-02   1.51725616e-02\n",
       "     2.93682907e-02   1.10565666e-02]\n",
       "  [  2.18084231e-02   2.54274607e-02   4.24483493e-02  -7.41896452e-03\n",
       "     3.39129679e-02   3.43685737e-03]\n",
       "  [  1.19088804e-02   4.80322214e-03   1.91466939e-02   4.71899565e-03\n",
       "     1.29641332e-02  -5.40987705e-04]\n",
       "  [  1.54530313e-02   9.41905752e-03   2.58143283e-02   1.28464820e-02\n",
       "     8.13204236e-03   5.68986172e-03]]\n",
       "\n",
       " [[ -1.48457452e-03   3.18089016e-02   1.82165671e-02   2.33145989e-02\n",
       "     2.31107902e-02   2.43207645e-02]\n",
       "  [  1.66964065e-03   3.72249400e-03   5.29030990e-03   3.00214663e-02\n",
       "     3.36745591e-03   2.58545205e-02]\n",
       "  [  2.26373188e-02   1.61160342e-02   2.18012854e-02   2.28051282e-02\n",
       "     1.35889379e-02   7.35506508e-03]\n",
       "  [  8.59077554e-03   1.09937582e-02   2.30336953e-02   2.42186412e-02\n",
       "     9.13094357e-03   3.07112727e-02]\n",
       "  [  3.28385979e-02  -5.57339052e-04   1.98228229e-02   1.17306327e-02\n",
       "     9.41288937e-03   1.05329612e-02]]]\n",
       "<NDArray 4x5x6 @cpu(0)>"
      ]
     },
     "execution_count": 127,
     "metadata": {},
     "output_type": "execute_result"
    }
   ],
   "source": [
    "# combined forward and backward, then across stack, e.g.\n",
    "# [ L1_forward\n",
    "#   L1_backward,\n",
    "#   L2_forward,\n",
    "#   L2_backward ]\n",
    "hid_states[0]"
   ]
  },
  {
   "cell_type": "code",
   "execution_count": 128,
   "metadata": {},
   "outputs": [],
   "source": [
    "# take last two rows since bi-dir\n",
    "hid_last = hid_states[0][-2:,:]"
   ]
  },
  {
   "cell_type": "code",
   "execution_count": 129,
   "metadata": {},
   "outputs": [],
   "source": [
    "# first of row pair, to get forward\n",
    "hid_last_forward = hid_last[0]"
   ]
  },
  {
   "cell_type": "code",
   "execution_count": 130,
   "metadata": {},
   "outputs": [
    {
     "data": {
      "text/plain": [
       "\n",
       "[[ 0.02836313  0.00606763  0.02310923  0.00844923  0.03136069  0.00835426]\n",
       " [ 0.02018425 -0.00205736  0.02368148  0.01517256  0.02936829  0.01105657]\n",
       " [ 0.02180842  0.02542746  0.04244835 -0.00741896  0.03391297  0.00343686]\n",
       " [ 0.01190888  0.00480322  0.01914669  0.004719    0.01296413 -0.00054099]\n",
       " [ 0.01545303  0.00941906  0.02581433  0.01284648  0.00813204  0.00568986]]\n",
       "<NDArray 5x6 @cpu(0)>"
      ]
     },
     "execution_count": 130,
     "metadata": {},
     "output_type": "execute_result"
    }
   ],
   "source": [
    "# same as first 6 channels of last step output\n",
    "hid_last_forward"
   ]
  },
  {
   "cell_type": "code",
   "execution_count": 131,
   "metadata": {},
   "outputs": [],
   "source": [
    "first_output = outputs[0]"
   ]
  },
  {
   "cell_type": "code",
   "execution_count": 132,
   "metadata": {},
   "outputs": [
    {
     "data": {
      "text/plain": [
       "\n",
       "[[-0.00148457  0.0318089   0.01821657  0.0233146   0.02311079  0.02432076]\n",
       " [ 0.00166964  0.00372249  0.00529031  0.03002147  0.00336746  0.02585452]\n",
       " [ 0.02263732  0.01611603  0.02180129  0.02280513  0.01358894  0.00735507]\n",
       " [ 0.00859078  0.01099376  0.0230337   0.02421864  0.00913094  0.03071127]\n",
       " [ 0.0328386  -0.00055734  0.01982282  0.01173063  0.00941289  0.01053296]]\n",
       "<NDArray 5x6 @cpu(0)>"
      ]
     },
     "execution_count": 132,
     "metadata": {},
     "output_type": "execute_result"
    }
   ],
   "source": [
    "# last 6 channels of first step output\n",
    "first_output[:,6:]"
   ]
  },
  {
   "cell_type": "code",
   "execution_count": 133,
   "metadata": {},
   "outputs": [],
   "source": [
    "# second of row pair, to get backward\n",
    "hid_last_backward = hid_last[1]"
   ]
  },
  {
   "cell_type": "code",
   "execution_count": 134,
   "metadata": {},
   "outputs": [
    {
     "data": {
      "text/plain": [
       "\n",
       "[[-0.00148457  0.0318089   0.01821657  0.0233146   0.02311079  0.02432076]\n",
       " [ 0.00166964  0.00372249  0.00529031  0.03002147  0.00336746  0.02585452]\n",
       " [ 0.02263732  0.01611603  0.02180129  0.02280513  0.01358894  0.00735507]\n",
       " [ 0.00859078  0.01099376  0.0230337   0.02421864  0.00913094  0.03071127]\n",
       " [ 0.0328386  -0.00055734  0.01982282  0.01173063  0.00941289  0.01053296]]\n",
       "<NDArray 5x6 @cpu(0)>"
      ]
     },
     "execution_count": 134,
     "metadata": {},
     "output_type": "execute_result"
    }
   ],
   "source": [
    "hid_last_backward"
   ]
  }
 ],
 "metadata": {
  "kernelspec": {
   "display_name": "Environment (conda_mxnet_p36)",
   "language": "python",
   "name": "conda_mxnet_p36"
  },
  "language_info": {
   "codemirror_mode": {
    "name": "ipython",
    "version": 3
   },
   "file_extension": ".py",
   "mimetype": "text/x-python",
   "name": "python",
   "nbconvert_exporter": "python",
   "pygments_lexer": "ipython3",
   "version": "3.6.4"
  }
 },
 "nbformat": 4,
 "nbformat_minor": 2
}
